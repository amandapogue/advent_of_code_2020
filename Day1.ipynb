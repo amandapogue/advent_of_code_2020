{
 "cells": [
  {
   "cell_type": "markdown",
   "metadata": {},
   "source": [
    "# Day 1:\n",
    "\n",
    "## Part 1:\n",
    "Before you leave, the Elves in accounting just need you to fix your expense report (your puzzle input); apparently, something isn't quite adding up. Specifically, they need you to find the two entries that sum to 2020 and then multiply those two numbers together.\n",
    "\n",
    "For example, suppose your expense report contained the following:\n",
    "|1721|\n",
    "|979|\n",
    "|366|\n",
    "|299|\n",
    "|675|\n",
    "|1456|\n",
    "\n",
    "In this list, the two entries that sum to 2020 are 1721 and 299. Multiplying them together produces 1721 * 299 = 514579, so the correct answer is 514579. Of course, your expense report is much larger. Find the two entries that sum to 2020; what do you get if you multiply them together?\n",
    "\n",
    "*Note:*\n",
    "I initially thought of getting my list of numbers by requesting the information from the advent calendar of code itself, until I realized that it required me to be logged in to get the unique list. Instead this project will use a hard coded version of the number list. "
   ]
  },
  {
   "cell_type": "code",
   "execution_count": 1,
   "metadata": {},
   "outputs": [],
   "source": [
    "# make a list of my personalized list items:\n",
    "items = [1227,1065,329,1063,1889,1700,1805,1373,389,1263,1276,1136,1652,1981,1406,1249,1197,1379,1050,1791,1703,\n",
    "         2001,1842,1707,1486,1204,1821,1807,1712,1871,1599,1390,1219,1612,1980,1857,1511,1702,1455,1303,1052,1754,\n",
    "         1545,1488,1848,1236,1549,1887,1970,1123,1686,1404,1688,1106,1296,401,1829,1693,1389,1957,914,1176,1348,1275,\n",
    "         1624,1401,1045,1396,1352,1569,1060,1235,1679,1503,1340,1872,1410,1077,958,1681,1189,1466,1087,1852,1293,1139,\n",
    "         1300,1323,661,1388,1983,1325,1112,1774,1858,1785,1616,1255,1198,1354,1124,1834,1417,1918,1496,33,1150,1861,\n",
    "         1172,2006,1199,1558,1919,1620,1613,1710,1477,1592,1709,1909,1670,1922,1840,1768,1982,1193,1736,1877,1770,1191,\n",
    "         1433,1072,1148,1225,1147,1171,1424,1913,1228,1339,1814,1504,1251,1240,1272,1500,1927,1428,1641,1453,1729,1976,\n",
    "         1808,1180,1024,1108,1085,1669,1636,1005,1520,1929,1626,1551,1234,1988,1256,1524,1571,1506,1977,1749,1408,1540,\n",
    "         1934,1810,1328,1910,1478,1600,1699,1413,1446,1798,1013,1998,1661,1058,1051,1220,1447,1675,1912,1668,1932,1962,\n",
    "         1055,1757,1116,1090]"
   ]
  },
  {
   "cell_type": "code",
   "execution_count": 2,
   "metadata": {},
   "outputs": [
    {
     "name": "stdout",
     "output_type": "stream",
     "text": [
      "The two numbers that add up to 2020 are: 1106 and 914\n",
      "Their product is: 1010884\n"
     ]
    }
   ],
   "source": [
    "import itertools\n",
    "\n",
    "# use itertools to look for combinations from the list of length 2, and print out the \n",
    "# combos that sum to 2020, and their resulting product\n",
    "for j in itertools.combinations(items, 2):\n",
    "    if j[0] + j[1] == 2020:\n",
    "        print(f'The two numbers that add up to 2020 are: {j[0]} and {j[1]}')\n",
    "        print(f'Their product is: {j[0]*j[1]}')"
   ]
  },
  {
   "cell_type": "markdown",
   "metadata": {},
   "source": [
    "## Part 2:\n",
    "The Elves in accounting are thankful for your help; one of them even offers you a starfish coin they had left over from a past vacation. They offer you a second one if you can find three numbers in your expense report that meet the same criteria.\n",
    "\n",
    "Using the above example again, the three entries that sum to 2020 are 979, 366, and 675. Multiplying them together produces the answer, 241861950.\n",
    "\n",
    "In your expense report, what is the product of the three entries that sum to 2020?"
   ]
  },
  {
   "cell_type": "code",
   "execution_count": 3,
   "metadata": {},
   "outputs": [
    {
     "name": "stdout",
     "output_type": "stream",
     "text": [
      "The three numbers that add up to 2020 are: 401, 958 and 661\n",
      "Their product is: 253928438\n"
     ]
    }
   ],
   "source": [
    "# we'll just update our itertools request from above to search for combinations of length 3\n",
    "for j in itertools.combinations(items, 3):\n",
    "    if j[0] + j[1] + j[2] == 2020:\n",
    "        print(f'The three numbers that add up to 2020 are: {j[0]}, {j[1]} and {j[2]}')\n",
    "        print(f'Their product is: {j[0]*j[1]*j[2]}')"
   ]
  }
 ],
 "metadata": {
  "kernelspec": {
   "display_name": "interviews",
   "language": "python",
   "name": "interviews"
  },
  "language_info": {
   "codemirror_mode": {
    "name": "ipython",
    "version": 3
   },
   "file_extension": ".py",
   "mimetype": "text/x-python",
   "name": "python",
   "nbconvert_exporter": "python",
   "pygments_lexer": "ipython3",
   "version": "3.7.9"
  }
 },
 "nbformat": 4,
 "nbformat_minor": 4
}
